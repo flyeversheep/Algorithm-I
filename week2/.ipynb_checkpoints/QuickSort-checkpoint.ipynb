{
 "cells": [
  {
   "cell_type": "code",
   "execution_count": 279,
   "metadata": {
    "collapsed": false
   },
   "outputs": [],
   "source": [
    "import numpy as np\n",
    "from numpy import random\n",
    "import requests"
   ]
  },
  {
   "cell_type": "code",
   "execution_count": 382,
   "metadata": {
    "collapsed": false
   },
   "outputs": [],
   "source": [
    "def partition(A,pivot_index):\n",
    "    # Swap the pivot to the first element\n",
    "    pivot = A[pivot_index]\n",
    "    A[pivot_index] = A[0]\n",
    "    A[0] = pivot\n",
    "    total = len(A)\n",
    "    # i is the tracker of the last elment of the left side\n",
    "    # j is the tracker of the first elment of the untracked size\n",
    "    i = 0\n",
    "    for j in range(1,total):\n",
    "        if(A[j]<pivot):\n",
    "            temp = A[j]\n",
    "            A[j] = A[i+1].copy()\n",
    "            A[i+1] = temp\n",
    "            i = i+1\n",
    "    A[0] = A[i]\n",
    "    A[i] = pivot\n",
    "    # the correct index for the pivot\n",
    "    pivot_correct = i\n",
    "    return pivot_correct\n",
    "def quicksort(array):\n",
    "    # This function sort the array into increasing order using quick sort\n",
    "    n = len(array)\n",
    "    if(n==1 or n==0):\n",
    "        return array\n",
    "    #randomly choose a pivot\n",
    "    pivotn = random.randint(n)\n",
    "    #partition the array\n",
    "    pivot_correct = partition(array,pivotn)\n",
    "    #sort the left part recursively\n",
    "    quicksort(array[0:pivot_correct])\n",
    "    #sort the right part recursively\n",
    "    quicksort(array[pivot_correct+1:n])"
   ]
  },
  {
   "cell_type": "code",
   "execution_count": 386,
   "metadata": {
    "collapsed": false
   },
   "outputs": [
    {
     "data": {
      "text/plain": [
       "array([ 0.10023628,  0.14532549,  0.23103303,  0.26917491,  0.35933321,\n",
       "        0.36228455,  0.41378483,  0.74144468,  0.93319761,  0.95542382])"
      ]
     },
     "execution_count": 386,
     "metadata": {},
     "output_type": "execute_result"
    }
   ],
   "source": [
    "a= random.rand(1,10)\n",
    "a = a.flatten()\n",
    "quicksort(a)\n",
    "a"
   ]
  },
  {
   "cell_type": "markdown",
   "metadata": {},
   "source": [
    "# Programming assignment"
   ]
  },
  {
   "cell_type": "code",
   "execution_count": 374,
   "metadata": {
    "collapsed": false
   },
   "outputs": [],
   "source": [
    "response = requests.get('https://dl.dropboxusercontent.com/u/20888180/AlgI_wk2_testcases/1000.txt')\n",
    "with open('test.txt', \"wb\") as file:\n",
    "    # write to file\n",
    "    file.write(response.content)\n",
    "test = np.loadtxt('test.txt')\n",
    "b = np.loadtxt('QuickSort.txt')"
   ]
  },
  {
   "cell_type": "markdown",
   "metadata": {},
   "source": [
    "## Using first element as pivot"
   ]
  },
  {
   "cell_type": "code",
   "execution_count": 395,
   "metadata": {
    "collapsed": false
   },
   "outputs": [
    {
     "name": "stdout",
     "output_type": "stream",
     "text": [
      "10297\n",
      "162085\n"
     ]
    }
   ],
   "source": [
    "test = np.loadtxt('test.txt')\n",
    "b = np.loadtxt('QuickSort.txt')\n",
    "def partition(A,pivot_index):\n",
    "    # Swap the pivot to the first element\n",
    "    pivot = A[pivot_index]\n",
    "    A[pivot_index] = A[0]\n",
    "    A[0] = pivot\n",
    "    total = len(A)\n",
    "    # i is the tracker of the last elment of the left side\n",
    "    # j is the tracker of the first elment of the untracked size\n",
    "    i = 0\n",
    "    for j in range(1,total):\n",
    "        if(A[j]<pivot):\n",
    "            temp = A[j]\n",
    "            A[j] = A[i+1].copy()\n",
    "            A[i+1] = temp\n",
    "            i = i+1\n",
    "    A[0] = A[i]\n",
    "    A[i] = pivot\n",
    "    # the correct index for the pivot\n",
    "    pivot_correct = i\n",
    "    return pivot_correct\n",
    "def quicksort(array):\n",
    "    # This function sort the array into increasing order using quick sort\n",
    "    n = len(array)\n",
    "    if(n==1 or n==0):\n",
    "        return 0\n",
    "    #randomly choose a pivot\n",
    "    pivotn = 0\n",
    "    #partition the array\n",
    "    pivot_correct = partition(array,pivotn)\n",
    "    #sort the left part recursively\n",
    "    left = quicksort(array[0:pivot_correct])\n",
    "    #sort the right part recursively\n",
    "    right = quicksort(array[pivot_correct+1:n])\n",
    "    return n-1+left+right\n",
    "print(quicksort(test))\n",
    "print(quicksort(b))"
   ]
  },
  {
   "cell_type": "markdown",
   "metadata": {},
   "source": [
    "## use the final element as pivot"
   ]
  },
  {
   "cell_type": "code",
   "execution_count": 396,
   "metadata": {
    "collapsed": false
   },
   "outputs": [
    {
     "name": "stdout",
     "output_type": "stream",
     "text": [
      "10184\n",
      "164123\n"
     ]
    }
   ],
   "source": [
    "test = np.loadtxt('test.txt')\n",
    "b = np.loadtxt('QuickSort.txt')\n",
    "def partition(A,pivot_index):\n",
    "    # Swap the pivot to the first element\n",
    "    pivot = A[pivot_index]\n",
    "    A[pivot_index] = A[0]\n",
    "    A[0] = pivot\n",
    "    total = len(A)\n",
    "    # i is the tracker of the last elment of the left side\n",
    "    # j is the tracker of the first elment of the untracked size\n",
    "    i = 0\n",
    "    for j in range(1,total):\n",
    "        if(A[j]<pivot):\n",
    "            temp = A[j]\n",
    "            A[j] = A[i+1].copy()\n",
    "            A[i+1] = temp\n",
    "            i = i+1\n",
    "    A[0] = A[i]\n",
    "    A[i] = pivot\n",
    "    # the correct index for the pivot\n",
    "    pivot_correct = i\n",
    "    return pivot_correct\n",
    "def quicksort(array):\n",
    "    # This function sort the array into increasing order using quick sort\n",
    "    n = len(array)\n",
    "    if(n==1 or n==0):\n",
    "        return 0\n",
    "    #randomly choose a pivot\n",
    "    pivotn = n-1\n",
    "    #partition the array\n",
    "    pivot_correct = partition(array,pivotn)\n",
    "    #sort the left part recursively\n",
    "    left = quicksort(array[0:pivot_correct])\n",
    "    #sort the right part recursively\n",
    "    right = quicksort(array[pivot_correct+1:n])\n",
    "    return n-1+left+right\n",
    "print(quicksort(test))\n",
    "print(quicksort(b))"
   ]
  },
  {
   "cell_type": "markdown",
   "metadata": {},
   "source": [
    "## Use the median as pivot"
   ]
  },
  {
   "cell_type": "code",
   "execution_count": 397,
   "metadata": {
    "collapsed": false
   },
   "outputs": [
    {
     "name": "stdout",
     "output_type": "stream",
     "text": [
      "8921\n",
      "138382\n"
     ]
    }
   ],
   "source": [
    "test = np.loadtxt('test.txt')\n",
    "b = np.loadtxt('QuickSort.txt')\n",
    "def partition(A,pivot_index):\n",
    "    # Swap the pivot to the first element\n",
    "    pivot = A[pivot_index]\n",
    "    A[pivot_index] = A[0]\n",
    "    A[0] = pivot\n",
    "    total = len(A)\n",
    "    # i is the tracker of the last elment of the left side\n",
    "    # j is the tracker of the first elment of the untracked size\n",
    "    i = 0\n",
    "    for j in range(1,total):\n",
    "        if(A[j]<pivot):\n",
    "            temp = A[j]\n",
    "            A[j] = A[i+1].copy()\n",
    "            A[i+1] = temp\n",
    "            i = i+1\n",
    "    A[0] = A[i]\n",
    "    A[i] = pivot\n",
    "    # the correct index for the pivot\n",
    "    pivot_correct = i\n",
    "    return pivot_correct\n",
    "def quicksort(array):\n",
    "    # This function sort the array into increasing order using quick sort\n",
    "    n = len(array)\n",
    "    if(n==1 or n==0):\n",
    "        return 0\n",
    "    first = array[0]\n",
    "    final = array[n-1]\n",
    "    middle_index = int(np.ceil(n/2))\n",
    "    middle = array[middle_index-1]\n",
    "    median = np.median([first,final,middle])\n",
    "    if(first == median):\n",
    "        pivotn = 0\n",
    "    elif(final==median):\n",
    "        pivotn = n-1\n",
    "    else:\n",
    "        pivotn = middle_index-1\n",
    "    #partition the array\n",
    "    pivot_correct = partition(array,pivotn)\n",
    "    #sort the left part recursively\n",
    "    left = quicksort(array[0:pivot_correct])\n",
    "    #sort the right part recursively\n",
    "    right = quicksort(array[pivot_correct+1:n])\n",
    "    return n-1+left+right\n",
    "print(quicksort(test))\n",
    "print(quicksort(b))"
   ]
  }
 ],
 "metadata": {
  "kernelspec": {
   "display_name": "Python 3",
   "language": "python",
   "name": "python3"
  },
  "language_info": {
   "codemirror_mode": {
    "name": "ipython",
    "version": 3
   },
   "file_extension": ".py",
   "mimetype": "text/x-python",
   "name": "python",
   "nbconvert_exporter": "python",
   "pygments_lexer": "ipython3",
   "version": "3.5.2"
  }
 },
 "nbformat": 4,
 "nbformat_minor": 0
}
