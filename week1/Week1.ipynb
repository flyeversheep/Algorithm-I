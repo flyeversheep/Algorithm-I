{
 "cells": [
  {
   "cell_type": "code",
   "execution_count": 3,
   "metadata": {
    "collapsed": true
   },
   "outputs": [],
   "source": [
    "import numpy as np"
   ]
  },
  {
   "cell_type": "markdown",
   "metadata": {},
   "source": [
    "# Merge sort"
   ]
  },
  {
   "cell_type": "code",
   "execution_count": 58,
   "metadata": {
    "collapsed": true
   },
   "outputs": [],
   "source": [
    "def merge_sort(array,method ='ascend'):\n",
    "    m = len(array)\n",
    "    #base case\n",
    "    if(m==1):\n",
    "        return array\n",
    "    #Divide\n",
    "    array1 = np.copy(array[0:int(m/2)])\n",
    "    array2 = np.copy(array[int(m/2):m].copy())\n",
    "    array1 = merge_sort(array1,method)\n",
    "    array2 = merge_sort(array2,method)\n",
    "    #combine\n",
    "    len1 = len(array1)\n",
    "    len2 = len(array2)\n",
    "    i = 0;\n",
    "    j = 0;\n",
    "    for k in range(m):\n",
    "        if(i==len1):\n",
    "            array[k:] = np.copy(array2[j:])\n",
    "            break\n",
    "        elif(j==len2):\n",
    "            array[k:] = np.copy(array1[i:])\n",
    "            break\n",
    "        else:\n",
    "            if(array1[i]>=array2[j]):\n",
    "                if(method == 'ascend'):\n",
    "                    array[k] = array2[j]\n",
    "                    k = k+1\n",
    "                    j = j+1\n",
    "                elif(method == 'descend'):\n",
    "                    array[k] = array1[i]\n",
    "                    k = k+1\n",
    "                    i = i+1\n",
    "                else:\n",
    "                    print('method error')\n",
    "                    return\n",
    "            elif(array1[i]<array2[j]):\n",
    "                if(method == 'ascend'):\n",
    "                    array[k] = array1[i]\n",
    "                    k = k+1\n",
    "                    i = i+1\n",
    "                elif(method == 'descend'):\n",
    "                    array[k] = array2[j]\n",
    "                    k = k+1\n",
    "                    j = j+1\n",
    "                else:\n",
    "                    print('method error')\n",
    "                    return\n",
    "    return array"
   ]
  },
  {
   "cell_type": "code",
   "execution_count": 60,
   "metadata": {
    "collapsed": false
   },
   "outputs": [
    {
     "name": "stdout",
     "output_type": "stream",
     "text": [
      "[ 1.   1.5  2.   2.   2.8  3. ]\n",
      "[ 3.   2.8  2.   2.   1.5  1. ]\n"
     ]
    }
   ],
   "source": [
    "a = np.array([2, 2,3, 1, 1.5, 2.8])\n",
    "print(merge_sort(a))\n",
    "print(merge_sort(a,method='descend'))"
   ]
  },
  {
   "cell_type": "markdown",
   "metadata": {},
   "source": [
    "# Counting inversion "
   ]
  },
  {
   "cell_type": "code",
   "execution_count": 64,
   "metadata": {
    "collapsed": true
   },
   "outputs": [],
   "source": [
    "def count_inversion(array):\n",
    "    n = len(array)\n",
    "    #base case\n",
    "    if(n==1):\n",
    "        return (0,array)\n",
    "    #divide\n",
    "    array1  = np.copy(array[0:int(n/2)])\n",
    "    array2  = np.copy(array[int(n/2):n])\n",
    "    (inversion1,array1) = count_inversion(array1)\n",
    "    (inversion2,array2) = count_inversion(array2)\n",
    "    #Merge and count split case inversion\n",
    "    m = len(array1)\n",
    "    l = len(array2)\n",
    "    i = 0\n",
    "    j = 0\n",
    "    count = 0\n",
    "    for k in range(n):\n",
    "        if(i==m):\n",
    "            array[k:] = np.copy(array2[j:])\n",
    "            break\n",
    "        elif(j==l):\n",
    "            array[k:] = np.copy(array1[i:])\n",
    "            break\n",
    "        else:\n",
    "            if(array1[i]<=array2[j]):\n",
    "                array[k] = array1[i]\n",
    "                k = k + 1\n",
    "                i = i + 1\n",
    "            elif(array1[i]>array2[j]):\n",
    "                array[k] = array2[j]\n",
    "                k = k + 1\n",
    "                j = j + 1\n",
    "                count = count+m-i\n",
    "    return(inversion1+inversion2+count,array)\n",
    "            \n",
    "            \n",
    "    #combine"
   ]
  },
  {
   "cell_type": "code",
   "execution_count": 68,
   "metadata": {
    "collapsed": false
   },
   "outputs": [
    {
     "data": {
      "text/plain": [
       "(3, [1, 2, 3, 4, 5, 6])"
      ]
     },
     "execution_count": 68,
     "metadata": {},
     "output_type": "execute_result"
    }
   ],
   "source": [
    "a = [1,3,5,2,4,6]\n",
    "count_inversion(a)"
   ]
  },
  {
   "cell_type": "markdown",
   "metadata": {},
   "source": [
    "# Closest pair"
   ]
  },
  {
   "cell_type": "code",
   "execution_count": null,
   "metadata": {
    "collapsed": true
   },
   "outputs": [],
   "source": []
  },
  {
   "cell_type": "markdown",
   "metadata": {},
   "source": [
    "# Programing assignment"
   ]
  },
  {
   "cell_type": "code",
   "execution_count": 69,
   "metadata": {
    "collapsed": true
   },
   "outputs": [],
   "source": [
    "a = np.loadtxt('integerArray.txt')"
   ]
  },
  {
   "cell_type": "code",
   "execution_count": 71,
   "metadata": {
    "collapsed": false
   },
   "outputs": [
    {
     "data": {
      "text/plain": [
       "(100000,)"
      ]
     },
     "execution_count": 71,
     "metadata": {},
     "output_type": "execute_result"
    }
   ],
   "source": [
    "a.shape"
   ]
  },
  {
   "cell_type": "code",
   "execution_count": 72,
   "metadata": {
    "collapsed": false
   },
   "outputs": [
    {
     "data": {
      "text/plain": [
       "(2407905288, array([  1.00000000e+00,   2.00000000e+00,   3.00000000e+00, ...,\n",
       "          9.99980000e+04,   9.99990000e+04,   1.00000000e+05]))"
      ]
     },
     "execution_count": 72,
     "metadata": {},
     "output_type": "execute_result"
    }
   ],
   "source": [
    "count_inversion(a)"
   ]
  },
  {
   "cell_type": "markdown",
   "metadata": {},
   "source": [
    "# find maximum in the unimodal array"
   ]
  },
  {
   "cell_type": "code",
   "execution_count": 109,
   "metadata": {
    "collapsed": false
   },
   "outputs": [],
   "source": [
    "def find_max(array):\n",
    "    n = len(array)\n",
    "    if(n==1):\n",
    "        return array[0]\n",
    "    if(n==2):\n",
    "        if(array[0]>array[1]):\n",
    "            return array[0]\n",
    "        else:\n",
    "            return array[1]\n",
    "    elif(array[int(n/2)-1]>=array[int(n/2)]):\n",
    "        return find_max(array[:int(n/2)])\n",
    "    else:\n",
    "        return find_max(array[int(n/2):])"
   ]
  },
  {
   "cell_type": "code",
   "execution_count": 110,
   "metadata": {
    "collapsed": false
   },
   "outputs": [
    {
     "data": {
      "text/plain": [
       "13.0"
      ]
     },
     "execution_count": 110,
     "metadata": {},
     "output_type": "execute_result"
    }
   ],
   "source": [
    "a = np.array([1,1.3,2,4,13,3,2,1,0])\n",
    "find_max(a)"
   ]
  },
  {
   "cell_type": "code",
   "execution_count": null,
   "metadata": {
    "collapsed": true
   },
   "outputs": [],
   "source": []
  }
 ],
 "metadata": {
  "kernelspec": {
   "display_name": "Python 3",
   "language": "python",
   "name": "python3"
  },
  "language_info": {
   "codemirror_mode": {
    "name": "ipython",
    "version": 3
   },
   "file_extension": ".py",
   "mimetype": "text/x-python",
   "name": "python",
   "nbconvert_exporter": "python",
   "pygments_lexer": "ipython3",
   "version": "3.5.2"
  }
 },
 "nbformat": 4,
 "nbformat_minor": 0
}
