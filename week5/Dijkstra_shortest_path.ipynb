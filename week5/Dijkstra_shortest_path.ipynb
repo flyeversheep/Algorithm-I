{
 "cells": [
  {
   "cell_type": "code",
   "execution_count": 151,
   "metadata": {
    "collapsed": true
   },
   "outputs": [],
   "source": [
    "import math"
   ]
  },
  {
   "cell_type": "code",
   "execution_count": 34,
   "metadata": {
    "collapsed": false
   },
   "outputs": [],
   "source": [
    "# define a Vertex class\n",
    "class Vertex:\n",
    "    def __init__(self,node):\n",
    "        self.id = node\n",
    "        self.adjacent = {}\n",
    "    def __str__(self):\n",
    "        return str(self.id)+'adjacent:'+str([x.id for x in self.adjacent])\n",
    "    def add_neighbor(self,neighbor,weight=0):\n",
    "        self.adjacent[neighbor] = weight\n",
    "    def get_connection(self):\n",
    "        return self.adjacent.keys()\n",
    "    def get_id(self):\n",
    "        return self.id\n",
    "    def get_weight(self,neighbor):\n",
    "        return self.adjacent[neighbor]\n",
    "# define a Graph class\n",
    "class Graph:\n",
    "    def __init__(self):\n",
    "        self.vert_dict = {}\n",
    "        self.number_vertices = 0\n",
    "    def __iter__(self):\n",
    "        # iterate through the Vertex Class object\n",
    "        return iter(self.vert_dict.values())\n",
    "    def add_vertex(self,node):\n",
    "        self.number_vertices = self.number_vertices+1\n",
    "        new_vertex = Vertex(node)\n",
    "        self.vert_dict[node]  = new_vertex\n",
    "        return new_vertex\n",
    "    def add_edge(self,firstnode,secondnode,weight,directed = True):\n",
    "        if firstnode not in self.vert_dict:\n",
    "            self.add_vertex(firstnode)\n",
    "        if secondnode not in self.vert_dict:\n",
    "            self.add_vertex(secondnode)\n",
    "        self.vert_dict[firstnode].add_neighbor(secondnode,weight)\n",
    "        if not directed:\n",
    "            self.vert_dict[secondnode].add_neighbor(firstnode,weight)\n",
    "    def get_vertices(self):\n",
    "        return self.vert_dict.keys()"
   ]
  },
  {
   "cell_type": "code",
   "execution_count": 299,
   "metadata": {
    "collapsed": false
   },
   "outputs": [],
   "source": [
    "def readgraph(filename):\n",
    "    #function to read the graph from txt into list\n",
    "    #store the raw information into raw\n",
    "    with open(filename,'r') as file:\n",
    "        contents = file.readlines()\n",
    "    graph = Graph()\n",
    "    for line in contents:\n",
    "        content_list = line.split()\n",
    "        graph.add_vertex(content_list[0])\n",
    "        for connection in content_list[1:]:\n",
    "            connection_list = connection.split(',')\n",
    "            graph.add_edge(content_list[0],connection_list[0],int(connection_list[1]))\n",
    "    return graph\n",
    "\n",
    "def dijkstra(graph,source):\n",
    "    # Dijkstra's shortest path algorithm in simple implementation\n",
    "    X = [source]\n",
    "    graph.vert_dict[source].shortest_path = 0\n",
    "    while(len(X) < len(graph.get_vertices())):\n",
    "        min_weight = float(\"infinity\")\n",
    "        for vertex_X in X:\n",
    "            for vertex_notX in graph.vert_dict[vertex_X].get_connection():\n",
    "                if(vertex_notX not in X):\n",
    "                    weight = graph.vert_dict[vertex_X].shortest_path+graph.vert_dict[vertex_X].get_weight(vertex_notX)\n",
    "                    if weight < min_weight:\n",
    "                        min_weight = weight\n",
    "                        min_target = vertex_notX\n",
    "        X.append(min_target)\n",
    "        graph.vert_dict[min_target].shortest_path = min_weight\n",
    "\n",
    "def dijkstra_heap(graph,source):\n",
    "    # Dijkstra's shortest path algorithm in heap implementation\n",
    "    X = [source]\n",
    "    graph.vert_dict[source].shortest_path = 0 \n",
    "    heap = heap_init(graph,source)\n",
    "    while(len(X)<len(graph.get_vertices())):\n",
    "        (min_weight,min_target) = heap_getmin(heap,graph)\n",
    "        heap_update(heap,min_weight,min_target,graph,X)\n",
    "    return heap\n",
    "\n",
    "def heap_init(graph,source):\n",
    "    # Initialize heap\n",
    "    heap = []\n",
    "    for vertex in graph.vert_dict[source].get_connection():\n",
    "        graph.vert_dict[vertex].shortest_path = graph.vert_dict[source].get_weight(vertex)\n",
    "        heap_insert(heap,graph,vertex,len(heap))\n",
    "    return heap\n",
    "    \n",
    "def heap_insert(heap,graph,vertex,i):\n",
    "    # Insert vertex into heap based on the shortest_path\n",
    "    heap.insert(i,vertex)\n",
    "    # bubble up\n",
    "    current_index = i\n",
    "    graph.vert_dict[heap[current_index]].heap_location = current_index\n",
    "    while(current_index>0 and graph.vert_dict[heap[current_index]].shortest_path<\n",
    "          graph.vert_dict[heap[math.ceil(current_index/2)-1]].shortest_path):\n",
    "        temp_vertex = heap[current_index]\n",
    "        heap[current_index] = heap[math.ceil(current_index/2)-1]\n",
    "        heap[math.ceil(current_index/2)-1] = temp_vertex\n",
    "        # update the heap locaiton information in the graph\n",
    "        graph.vert_dict[heap[math.ceil(current_index/2)-1]].heap_location = math.ceil(current_index/2)-1\n",
    "        graph.vert_dict[heap[current_index]].heap_location = current_index\n",
    "        current_index = math.ceil(current_index/2)-1\n",
    "        \n",
    "def heap_getmin(heap,graph):\n",
    "    # Extract min from the heap\n",
    "    min_target = heap[0]\n",
    "    min_weight = graph.vert_dict[min_target].shortest_path\n",
    "    final_elment = heap.pop()\n",
    "    if(len(heap)>0):\n",
    "        heap[0] = final_elment\n",
    "    else:\n",
    "        return min_weight,min_target\n",
    "    # bubble down\n",
    "    current_index = 0\n",
    "    final_heap = len(heap)-1\n",
    "    graph.vert_dict[heap[current_index]].heap_location = current_index\n",
    "    temp_path = graph.vert_dict[heap[final_heap]].shortest_path\n",
    "    while(current_index*2+1<=final_heap):\n",
    "        if(current_index*2+2<=final_heap):\n",
    "            #where the current node has two children\n",
    "            if(graph.vert_dict[heap[current_index*2+1]].shortest_path<\n",
    "              graph.vert_dict[heap[current_index*2+2]].shortest_path):\n",
    "                min_child_path = graph.vert_dict[heap[current_index*2+1]].shortest_path\n",
    "                min_child_index = current_index*2+1\n",
    "            else:\n",
    "                min_child_path = graph.vert_dict[heap[current_index*2+2]].shortest_path\n",
    "                min_child_index = current_index*2+2\n",
    "        else:\n",
    "            #where the current node has one child\n",
    "            min_child_path = graph.vert_dict[heap[current_index*2+1]].shortest_path\n",
    "            min_child_index = current_index*2+1\n",
    "        if(min_child_path<temp_path):\n",
    "            temp_vertex = heap[current_index]\n",
    "            heap[current_index] = heap[min_child_index]\n",
    "            heap[min_child_index] = temp_vertex\n",
    "            graph.vert_dict[heap[current_index]].heap_location = current_index\n",
    "            graph.vert_dict[heap[min_child_index]].heap_location = min_child_index\n",
    "            current_index = min_child_index\n",
    "        else:\n",
    "            break\n",
    "    return min_weight,min_target\n",
    "        \n",
    "def heap_update(heap,minweight,changed_vertex,graph,X):\n",
    "    # update the heap\n",
    "    graph.vert_dict[changed_vertex].shortest_path = minweight\n",
    "    X.append(changed_vertex)\n",
    "    for influenced_vertex in graph.vert_dict[changed_vertex].get_connection():\n",
    "        if(influenced_vertex not in X and influenced_vertex in heap):\n",
    "            heap_location_old = graph.vert_dict[influenced_vertex].heap_location\n",
    "            path_old = graph.vert_dict[heap[heap_location_old]].shortest_path\n",
    "            path_new = minweight+graph.vert_dict[changed_vertex].get_weight(influenced_vertex)\n",
    "            if (path_new<path_old):\n",
    "                #if the new path is shorter, then we update it\n",
    "                graph.vert_dict[influenced_vertex].shortest_path = path_new\n",
    "                heap.pop(heap_location_old)\n",
    "                heap_insert(heap,graph,influenced_vertex,heap_location_old)\n",
    "        elif(influenced_vertex not in X and influenced_vertex not in heap):\n",
    "            path_new = minweight+graph.vert_dict[changed_vertex].get_weight(influenced_vertex)\n",
    "            graph.vert_dict[influenced_vertex].shortest_path = path_new\n",
    "            heap_insert(heap,graph,influenced_vertex,len(heap))"
   ]
  },
  {
   "cell_type": "code",
   "execution_count": 310,
   "metadata": {
    "collapsed": false
   },
   "outputs": [
    {
     "data": {
      "text/plain": [
       "[0, 2971, 2644, 3056, 2525, 2818, 2599, 1875, 745, 3205]"
      ]
     },
     "execution_count": 310,
     "metadata": {},
     "output_type": "execute_result"
    }
   ],
   "source": [
    "#G = readgraph('dijkstra_data.txt')\n",
    "G = readgraph('dijkstra_data.txt')\n",
    "heap = dijkstra_heap(G,'1')\n",
    "result = []\n",
    "for vertex in range(1,11):\n",
    "    result.append(G.vert_dict[str(vertex)].shortest_path)\n",
    "result"
   ]
  },
  {
   "cell_type": "code",
   "execution_count": 309,
   "metadata": {
    "collapsed": false
   },
   "outputs": [
    {
     "data": {
      "text/plain": [
       "[0, 2971, 2644, 3056, 2525, 2818, 2599, 1875, 745, 3205]"
      ]
     },
     "execution_count": 309,
     "metadata": {},
     "output_type": "execute_result"
    }
   ],
   "source": [
    "#G = readgraph('dijkstra_data.txt')\n",
    "G = readgraph('dijkstra_data.txt')\n",
    "heap = dijkstra(G,'1')\n",
    "result = []\n",
    "for vertex in range(1,11):\n",
    "    result.append(G.vert_dict[str(vertex)].shortest_path)\n",
    "result"
   ]
  },
  {
   "cell_type": "code",
   "execution_count": 311,
   "metadata": {
    "collapsed": false
   },
   "outputs": [
    {
     "data": {
      "text/plain": [
       "[2599, 2610, 2947, 2052, 2367, 2399, 2029, 2442, 2505, 3068]"
      ]
     },
     "execution_count": 311,
     "metadata": {},
     "output_type": "execute_result"
    }
   ],
   "source": [
    "target = [7,37,59,82,99,115,133,165,188,197]\n",
    "result = []\n",
    "for vertex in target:\n",
    "    result.append(G.vert_dict[str(vertex)].shortest_path)\n",
    "result"
   ]
  },
  {
   "cell_type": "code",
   "execution_count": null,
   "metadata": {
    "collapsed": true
   },
   "outputs": [],
   "source": []
  }
 ],
 "metadata": {
  "kernelspec": {
   "display_name": "Python 3",
   "language": "python",
   "name": "python3"
  },
  "language_info": {
   "codemirror_mode": {
    "name": "ipython",
    "version": 3
   },
   "file_extension": ".py",
   "mimetype": "text/x-python",
   "name": "python",
   "nbconvert_exporter": "python",
   "pygments_lexer": "ipython3",
   "version": "3.5.2"
  }
 },
 "nbformat": 4,
 "nbformat_minor": 0
}
