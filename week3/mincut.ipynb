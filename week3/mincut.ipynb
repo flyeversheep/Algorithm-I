{
 "cells": [
  {
   "cell_type": "code",
   "execution_count": 54,
   "metadata": {
    "collapsed": false
   },
   "outputs": [],
   "source": [
    "import numpy as np\n",
    "import networkx as nx\n",
    "import numpy.random as random\n",
    "random.seed(2016)"
   ]
  },
  {
   "cell_type": "code",
   "execution_count": 237,
   "metadata": {
    "collapsed": false
   },
   "outputs": [],
   "source": [
    "def readgraph(filename):\n",
    "    #function to read the graph from txt into list\n",
    "    #store the raw information into raw\n",
    "    with open(filename, \"r\") as file:\n",
    "        raw = file.readlines()\n",
    "    #use list to store a graph\n",
    "    graph = list()\n",
    "    for line in raw:\n",
    "        if(line=='\\n'):\n",
    "            continue\n",
    "        linelist = []\n",
    "        index = 0\n",
    "        char_len = 0\n",
    "        while(line[index]!='\\n'):\n",
    "                if(line[index]!='\\t'):\n",
    "                    char_len+=1\n",
    "                else:\n",
    "                    linelist.append(int(line[index-char_len:index]))\n",
    "                    char_len=0\n",
    "                index +=1\n",
    "        #linelist.append(int(line[index-char_len:index]))\n",
    "        graph.append(linelist)\n",
    "    return graph\n",
    "def counttotal(graph):\n",
    "    #count the total number of edges times 2 (easy to allocate contraction)\n",
    "    total = 0\n",
    "    for line in graph:\n",
    "        total+=(len(line)-1)\n",
    "    return total\n",
    "def delselfloop(vertex,graph):\n",
    "    #this function finds the selfloop of vertex i of the graph and delete it\n",
    "    for line in graph:\n",
    "        if(line[0]==vertex):\n",
    "            #deleted is a constant used to keep track of the number of selfloop deleted\n",
    "            deleted = 0\n",
    "            length = len(line)\n",
    "            for j in range(1,length):\n",
    "                if(line[j-deleted]==vertex):\n",
    "                    line.pop(j-deleted)\n",
    "                    deleted +=1\n",
    "                    \n",
    "def contract(i,j,graph):\n",
    "    #contract the jth vertex into i vertex\n",
    "    for line in graph:\n",
    "        for (index,vertex) in enumerate(line):\n",
    "            if(vertex==j):\n",
    "                line[index] = i\n",
    "    delselfloop(i,graph)\n",
    "    \n",
    "def choosepair(graph,total):\n",
    "    #this function choose the pairs of vertics to contract\n",
    "    pair_index = random.randint(total)\n",
    "    temp_index = 0\n",
    "    for line in graph:\n",
    "        for i in range(1,len(line)):\n",
    "            if(temp_index==pair_index):\n",
    "                return line[0],line[i]\n",
    "            temp_index+=1\n",
    "    "
   ]
  },
  {
   "cell_type": "code",
   "execution_count": 239,
   "metadata": {
    "collapsed": false
   },
   "outputs": [
    {
     "name": "stdout",
     "output_type": "stream",
     "text": [
      "17.0\n"
     ]
    }
   ],
   "source": [
    "graphorigin = readgraph('homework.txt')\n",
    "#print(graphorigin)\n",
    "total_min = counttotal(graphorigin)\n",
    "final_graph = graphorigin\n",
    "for number_round in range(100):\n",
    "    graph = readgraph('homework.txt')\n",
    "    number_vertices = len(graph)\n",
    "    while(number_vertices>2):\n",
    "        total = counttotal(graph)\n",
    "        (index_i,index_j)=choosepair(graph,total)\n",
    "        contract(index_i,index_j,graph)\n",
    "        number_vertices-=1\n",
    "    total = counttotal(graph)\n",
    "    if(total<total_min):\n",
    "        total_min = total\n",
    "        final_graph = graph\n",
    "print(total_min/2)"
   ]
  }
 ],
 "metadata": {
  "kernelspec": {
   "display_name": "Python 3",
   "language": "python",
   "name": "python3"
  },
  "language_info": {
   "codemirror_mode": {
    "name": "ipython",
    "version": 3
   },
   "file_extension": ".py",
   "mimetype": "text/x-python",
   "name": "python",
   "nbconvert_exporter": "python",
   "pygments_lexer": "ipython3",
   "version": "3.5.2"
  }
 },
 "nbformat": 4,
 "nbformat_minor": 0
}
