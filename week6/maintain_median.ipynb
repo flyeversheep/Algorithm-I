{
 "cells": [
  {
   "cell_type": "code",
   "execution_count": 7,
   "metadata": {
    "collapsed": true
   },
   "outputs": [],
   "source": [
    "import numpy as np\n",
    "import math"
   ]
  },
  {
   "cell_type": "code",
   "execution_count": 58,
   "metadata": {
    "collapsed": false
   },
   "outputs": [],
   "source": [
    "def readfile(filename):\n",
    "    #this function read the file and store it into a numpy array\n",
    "    data = np.loadtxt(filename)\n",
    "    return data\n",
    "\n",
    "def median_sum(data):\n",
    "    #this is the function that calculates the sum of the median and return the mod\n",
    "    median_sum = 0\n",
    "    heap_low = []\n",
    "    heap_high = []\n",
    "    for stream_data in data:\n",
    "        current_median = median(heap_low,heap_high,stream_data)\n",
    "        median_sum = median_sum + current_median\n",
    "    return median_sum%len(data)\n",
    "\n",
    "def median(heap_low,heap_high,current_data):\n",
    "    #this is the function that calculates the current median based on the stream of the data.\n",
    "    low_len = len(heap_low)\n",
    "    high_len = len(heap_high)\n",
    "    if(low_len==0):\n",
    "        if(high_len==0):\n",
    "            heap_low.append(current_data)\n",
    "        else:\n",
    "            if(current_data>heap_high[0]):\n",
    "                min_heap_insert(heap_high,current_data)\n",
    "            else:\n",
    "                max_heap_insert(heap_low,current_data)\n",
    "    else:\n",
    "        if(current_data<=heap_low[0]):\n",
    "            max_heap_insert(heap_low,current_data)\n",
    "        else:\n",
    "            min_heap_insert(heap_high,current_data)\n",
    "    maintain_balance(heap_low,heap_high)\n",
    "    median = heap_low[0]\n",
    "    #print(median)\n",
    "    return median\n",
    "\n",
    "def min_heap_insert(heap,data):\n",
    "    #this is the function that insert an element into the heap that support minimum search\n",
    "    heap.append(data)\n",
    "    #i is the indicator about where the new data is in the heap\n",
    "    i = len(heap)-1\n",
    "    while(math.ceil(i/2)-1>=0):\n",
    "        parent = heap[math.ceil(i/2)-1]\n",
    "        if(data<parent):\n",
    "            heap[math.ceil(i/2)-1] = data\n",
    "            heap[i] = parent\n",
    "            i = math.ceil(i/2)-1\n",
    "        else:\n",
    "            break\n",
    "            \n",
    "def max_heap_insert(heap,data):\n",
    "    #this is the function that insert an element into the heap that support maxmimum search\n",
    "    heap.append(data)\n",
    "    #i is the indicator about where the new data is in the heap\n",
    "    i = len(heap)-1\n",
    "    while(math.ceil(i/2)-1>=0):\n",
    "        parent = heap[math.ceil(i/2)-1]\n",
    "        if(data>parent):\n",
    "            heap[math.ceil(i/2)-1] = data\n",
    "            heap[i] = parent\n",
    "            i = math.ceil(i/2)-1\n",
    "        else:\n",
    "            break\n",
    "\n",
    "def min_heap_popmin(heap):\n",
    "    #this is the function that pop the minimum from the heap\n",
    "    len_heap = len(heap)\n",
    "    min_element = heap[0]\n",
    "    heap[0] = heap.pop(len_heap-1)\n",
    "    target = heap[0]\n",
    "    i = 0\n",
    "    while(i*2+2<len_heap-1):\n",
    "        first_child = heap[i*2+1]\n",
    "        second_child = heap[i*2+2]\n",
    "        if(first_child>second_child):\n",
    "            min_child = second_child\n",
    "            min_index = i*2+2\n",
    "        else:\n",
    "            min_child = first_child\n",
    "            min_index = i*2+1\n",
    "        if(target>min_child):\n",
    "            heap[i] = min_child\n",
    "            heap[min_index] = target\n",
    "            i = min_index\n",
    "        else:\n",
    "            break\n",
    "    if(i*2+1<len_heap-1):\n",
    "        if(target>heap[i*2+1]):\n",
    "            heap[i] = heap[i*2+1]\n",
    "            heap[i*2+1] = target\n",
    "    return min_element\n",
    "\n",
    "def max_heap_popmax(heap):\n",
    "    #this is the function that pop the maximum from the heap\n",
    "    len_heap = len(heap)\n",
    "    max_element = heap[0]\n",
    "    heap[0] = heap.pop(len_heap-1)\n",
    "    target = heap[0]\n",
    "    i = 0\n",
    "    while(i*2+2<len_heap-1):\n",
    "        first_child = heap[i*2+1]\n",
    "        second_child = heap[i*2+2]\n",
    "        if(first_child<second_child):\n",
    "            max_child = second_child\n",
    "            max_index = i*2+2\n",
    "        else:\n",
    "            max_child = first_child\n",
    "            max_index = i*2+1\n",
    "        if(target<max_child):\n",
    "            heap[i] = max_child\n",
    "            heap[max_index] = target\n",
    "            i = max_index\n",
    "        else:\n",
    "            break\n",
    "    if(i*2+1<len_heap-1):\n",
    "        if(target<heap[i*2+1]):\n",
    "            heap[i] = heap[i*2+1]\n",
    "            heap[i*2+1] = target\n",
    "    return max_element\n",
    "\n",
    "def maintain_balance(heap_low,heap_high):\n",
    "    len_low = len(heap_low)\n",
    "    len_high = len(heap_high)\n",
    "    if(len_low == len_high-1):\n",
    "        #if total heap element is odd number, we make the \n",
    "        #low heap has one more elment than the high heap.\n",
    "        element_moved = min_heap_popmin(heap_high)\n",
    "        max_heap_insert(heap_low,element_moved)\n",
    "    elif(len_low == len_high+2):\n",
    "        #if total heap element is even number, we make them\n",
    "        #have the same number of elements\n",
    "        element_moved = max_heap_popmax(heap_low)\n",
    "        min_heap_insert(heap_high,element_moved)"
   ]
  },
  {
   "cell_type": "code",
   "execution_count": 59,
   "metadata": {
    "collapsed": false
   },
   "outputs": [],
   "source": [
    "data = readfile('median.txt')\n",
    "result = median_sum(data)"
   ]
  },
  {
   "cell_type": "code",
   "execution_count": 60,
   "metadata": {
    "collapsed": false
   },
   "outputs": [
    {
     "data": {
      "text/plain": [
       "1213.0"
      ]
     },
     "execution_count": 60,
     "metadata": {},
     "output_type": "execute_result"
    }
   ],
   "source": [
    "result"
   ]
  },
  {
   "cell_type": "code",
   "execution_count": 10,
   "metadata": {
    "collapsed": true
   },
   "outputs": [],
   "source": [
    "a = [2,4]"
   ]
  },
  {
   "cell_type": "code",
   "execution_count": 11,
   "metadata": {
    "collapsed": false
   },
   "outputs": [
    {
     "data": {
      "text/plain": [
       "4"
      ]
     },
     "execution_count": 11,
     "metadata": {},
     "output_type": "execute_result"
    }
   ],
   "source": [
    "a.pop(1)"
   ]
  },
  {
   "cell_type": "code",
   "execution_count": null,
   "metadata": {
    "collapsed": true
   },
   "outputs": [],
   "source": []
  }
 ],
 "metadata": {
  "kernelspec": {
   "display_name": "Python 3",
   "language": "python",
   "name": "python3"
  },
  "language_info": {
   "codemirror_mode": {
    "name": "ipython",
    "version": 3
   },
   "file_extension": ".py",
   "mimetype": "text/x-python",
   "name": "python",
   "nbconvert_exporter": "python",
   "pygments_lexer": "ipython3",
   "version": "3.5.2"
  }
 },
 "nbformat": 4,
 "nbformat_minor": 0
}
