{
 "cells": [
  {
   "cell_type": "code",
   "execution_count": 1,
   "metadata": {
    "collapsed": true
   },
   "outputs": [],
   "source": [
    "import numpy as np"
   ]
  },
  {
   "cell_type": "code",
   "execution_count": 6,
   "metadata": {
    "collapsed": true
   },
   "outputs": [],
   "source": [
    "def readfile(filename):\n",
    "    data = np.loadtxt(filename)\n",
    "    return data\n",
    "\n",
    "def median_sum(data):\n",
    "    median_sum = 0\n",
    "    heap_low = []\n",
    "    heap_high = []\n",
    "    for stream_data in data:\n",
    "        current_median = median(heap_low,heap_high,stream_data)\n",
    "        median_sum = median_sum + current_median\n",
    "    return median_sum%10000\n",
    "\n",
    "def median(heap_low,heap_high,current_data):\n",
    "    heap"
   ]
  },
  {
   "cell_type": "code",
   "execution_count": null,
   "metadata": {
    "collapsed": true
   },
   "outputs": [],
   "source": [
    "data = readfile('maintain_median.txt')\n",
    "result = median_sum(data)"
   ]
  }
 ],
 "metadata": {
  "kernelspec": {
   "display_name": "Python 3",
   "language": "python",
   "name": "python3"
  },
  "language_info": {
   "codemirror_mode": {
    "name": "ipython",
    "version": 3
   },
   "file_extension": ".py",
   "mimetype": "text/x-python",
   "name": "python",
   "nbconvert_exporter": "python",
   "pygments_lexer": "ipython3",
   "version": "3.5.2"
  }
 },
 "nbformat": 4,
 "nbformat_minor": 0
}
