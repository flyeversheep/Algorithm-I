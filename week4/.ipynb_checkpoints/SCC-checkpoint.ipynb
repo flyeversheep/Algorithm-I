{
 "cells": [
  {
   "cell_type": "code",
   "execution_count": 115,
   "metadata": {
    "collapsed": true
   },
   "outputs": [],
   "source": [
    "import numpy as np"
   ]
  },
  {
   "cell_type": "code",
   "execution_count": 131,
   "metadata": {
    "collapsed": false
   },
   "outputs": [],
   "source": [
    "def readgraph(filename):\n",
    "    #function to read the graph from txt into list\n",
    "    #store the raw information into raw\n",
    "    with open(filename,'r') as file:\n",
    "        contents = file.readlines()\n",
    "    graph = dict()\n",
    "    for line in contents:\n",
    "        temp_list = line.split()\n",
    "        if temp_list[0] in graph:\n",
    "            # append the new number to the existing array at this slot\n",
    "            graph[temp_list[0]].append(temp_list[1])\n",
    "        else:\n",
    "            # create a new array in this slot\n",
    "            graph[temp_list[0]] = [temp_list[1]]\n",
    "    return graph\n",
    "\n",
    "def reverse_graph(graph):\n",
    "    #function to calculate the reversed graph of the original graph\n",
    "    reversegraph = dict()\n",
    "    for origin_out_node in graph:\n",
    "        for origin_in_node in graph[origin_out_node]:\n",
    "            if origin_in_node in reversegraph:\n",
    "                # append the original out node as the in node in reversed graph\n",
    "                reversegraph[origin_in_node].append(origin_out_node)\n",
    "            else:\n",
    "                reversegraph[origin_in_node] = [origin_out_node]\n",
    "    return reversegraph\n",
    "def initialize(graph):\n",
    "    #initialize the explored status of the graph\n",
    "    explored = dict()\n",
    "    for node in graph:\n",
    "        explored[node] = False\n",
    "    for node in graph:\n",
    "        for in_node in graph[node]:\n",
    "            explored[in_node] = False\n",
    "    return explored\n",
    "def DFS_loop(G,number_pass,order=[]):\n",
    "    #depth first search outter loop\n",
    "    if(number_pass == 1):\n",
    "        explored = initialize(G)\n",
    "        finishing_order=[]\n",
    "        for node in explored:\n",
    "            if(not explored[node]):\n",
    "                DFS_1pass(G,node,explored,finishing_order)\n",
    "        return finishing_order\n",
    "    else:\n",
    "        global s\n",
    "        explored = initialize(G)\n",
    "        leader = initialize(G)\n",
    "        for node in reversed(order):\n",
    "            if(not explored[node]):\n",
    "                s = node\n",
    "                DFS_2pass(G,node,explored,leader)\n",
    "        return leader\n",
    "        \n",
    "    \n",
    "    \n",
    "def DFS_1pass(G,i,explored,finishing_order):\n",
    "    #depth first search of graph starting from node i\n",
    "    explored[i] = True\n",
    "    if(i in G):\n",
    "        for j in G[i]:\n",
    "            if(not explored[j]):\n",
    "                DFS_1pass(G,j,explored,finishing_order)\n",
    "        finishing_order.append(i)\n",
    "    \n",
    "def DFS_2pass(G,i,explored,leader):\n",
    "    #depth first search of graph starting from node i\n",
    "    explored[i] = True\n",
    "    leader[i] = s\n",
    "    if(i in G):\n",
    "        for j in G[i]:\n",
    "            if(not explored[j]):\n",
    "                DFS_2pass(G,j,explored,leader)\n",
    "\n",
    "def count_size(dic):\n",
    "    new_dic = dict()\n",
    "    for key in dic:\n",
    "        if(dic[key] not in new_dic):\n",
    "            new_dic[dic[key]]=1\n",
    "        else:\n",
    "            new_dic[dic[key]] = new_dic[dic[key]]+1\n",
    "    return list(new_dic.values())"
   ]
  },
  {
   "cell_type": "code",
   "execution_count": 140,
   "metadata": {
    "collapsed": false
   },
   "outputs": [],
   "source": [
    "graph = readgraph('test6.txt')\n",
    "reversed_graph = reverse_graph(graph)\n",
    "order = DFS_loop(reversed_graph,1)\n",
    "leader = DFS_loop(graph,2,order)\n",
    "leader_count = count_size(leader)"
   ]
  },
  {
   "cell_type": "code",
   "execution_count": 143,
   "metadata": {
    "collapsed": false
   },
   "outputs": [
    {
     "data": {
      "text/plain": [
       "array([196, 198, 219, 244, 261])"
      ]
     },
     "execution_count": 143,
     "metadata": {},
     "output_type": "execute_result"
    }
   ],
   "source": [
    "np.sort(leader_count)[-5:]"
   ]
  },
  {
   "cell_type": "code",
   "execution_count": 73,
   "metadata": {
    "collapsed": false
   },
   "outputs": [],
   "source": [
    "order.reverse()"
   ]
  },
  {
   "cell_type": "code",
   "execution_count": 75,
   "metadata": {
    "collapsed": false
   },
   "outputs": [
    {
     "name": "stdout",
     "output_type": "stream",
     "text": [
      "7\n",
      "4\n",
      "1\n",
      "3\n",
      "9\n",
      "6\n",
      "5\n",
      "8\n",
      "2\n"
     ]
    }
   ],
   "source": []
  },
  {
   "cell_type": "code",
   "execution_count": null,
   "metadata": {
    "collapsed": true
   },
   "outputs": [],
   "source": []
  }
 ],
 "metadata": {
  "kernelspec": {
   "display_name": "Python 3",
   "language": "python",
   "name": "python3"
  },
  "language_info": {
   "codemirror_mode": {
    "name": "ipython",
    "version": 3
   },
   "file_extension": ".py",
   "mimetype": "text/x-python",
   "name": "python",
   "nbconvert_exporter": "python",
   "pygments_lexer": "ipython3",
   "version": "3.5.2"
  }
 },
 "nbformat": 4,
 "nbformat_minor": 0
}
